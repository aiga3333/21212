{
  "nbformat": 4,
  "nbformat_minor": 0,
  "metadata": {
    "colab": {
      "name": "1_Scratch.ipynb",
      "provenance": [],
      "collapsed_sections": [],
      "mount_file_id": "1As0aIyZQkZDwR1wCecni0T-YWroY-JER",
      "authorship_tag": "ABX9TyOgb/UkPjUCRmblA3cPWc+G",
      "include_colab_link": true
    },
    "kernelspec": {
      "name": "python3",
      "display_name": "Python 3"
    }
  },
  "cells": [
    {
      "cell_type": "markdown",
      "metadata": {
        "id": "view-in-github",
        "colab_type": "text"
      },
      "source": [
        "<a href=\"https://colab.research.google.com/github/aiga3333/21212/blob/master/1_Scratch.ipynb\" target=\"_parent\"><img src=\"https://colab.research.google.com/assets/colab-badge.svg\" alt=\"Open In Colab\"/></a>"
      ]
    },
    {
      "cell_type": "code",
      "metadata": {
        "id": "UKohEtRDcta9",
        "colab_type": "code",
        "colab": {}
      },
      "source": [
        "from google.colab import files"
      ],
      "execution_count": 0,
      "outputs": []
    },
    {
      "cell_type": "code",
      "metadata": {
        "id": "WkOo7tqLcm3_",
        "colab_type": "code",
        "outputId": "003b2424-489b-4c82-a587-04ea4b632159",
        "colab": {
          "base_uri": "https://localhost:8080/",
          "height": 35
        }
      },
      "source": [
        "!ls"
      ],
      "execution_count": 3,
      "outputs": [
        {
          "output_type": "stream",
          "text": [
            "drive  sample_data\n"
          ],
          "name": "stdout"
        }
      ]
    },
    {
      "cell_type": "code",
      "metadata": {
        "id": "ddIjWsSNnC9X",
        "colab_type": "code",
        "outputId": "e825da25-9196-462e-d320-1c8370e4ae34",
        "colab": {
          "base_uri": "https://localhost:8080/",
          "height": 126
        }
      },
      "source": [
        "from google.colab import drive\n",
        "drive.mount('/content/gdrive')"
      ],
      "execution_count": 4,
      "outputs": [
        {
          "output_type": "stream",
          "text": [
            "Go to this URL in a browser: https://accounts.google.com/o/oauth2/auth?client_id=947318989803-6bn6qk8qdgf4n4g3pfee6491hc0brc4i.apps.googleusercontent.com&redirect_uri=urn%3aietf%3awg%3aoauth%3a2.0%3aoob&response_type=code&scope=email%20https%3a%2f%2fwww.googleapis.com%2fauth%2fdocs.test%20https%3a%2f%2fwww.googleapis.com%2fauth%2fdrive%20https%3a%2f%2fwww.googleapis.com%2fauth%2fdrive.photos.readonly%20https%3a%2f%2fwww.googleapis.com%2fauth%2fpeopleapi.readonly\n",
            "\n",
            "Enter your authorization code:\n",
            "··········\n",
            "Mounted at /content/gdrive\n"
          ],
          "name": "stdout"
        }
      ]
    },
    {
      "cell_type": "code",
      "metadata": {
        "id": "3ItJThyUvCW0",
        "colab_type": "code",
        "outputId": "83ccf8f7-1553-4ee2-dcfd-39423595f290",
        "colab": {
          "base_uri": "https://localhost:8080/",
          "height": 35
        }
      },
      "source": [
        "!ls '/content/gdrive/My Drive/Colab Notebooks/tuberculosis/base_dir/'"
      ],
      "execution_count": 0,
      "outputs": [
        {
          "output_type": "stream",
          "text": [
            "test_dir  train_dir  val_dir\n"
          ],
          "name": "stdout"
        }
      ]
    },
    {
      "cell_type": "code",
      "metadata": {
        "id": "WIm5dUj4vKTT",
        "colab_type": "code",
        "colab": {}
      },
      "source": [
        "train_dir = '/content/gdrive/My Drive/Colab Notebooks/tuberculosis/base_dir/train_dir/'\n",
        "val_dir = '/content/gdrive/My Drive/Colab Notebooks/tuberculosis/base_dir/val_dir/'\n",
        "test_dir = '/content/gdrive/My Drive/Colab Notebooks/tuberculosis/base_dir/test_dir/'"
      ],
      "execution_count": 0,
      "outputs": []
    },
    {
      "cell_type": "code",
      "metadata": {
        "id": "16ks-Oo8egXe",
        "colab_type": "code",
        "colab": {}
      },
      "source": [
        "from tensorflow.python.keras.preprocessing.image import ImageDataGenerator\n",
        "from tensorflow.python.keras.models import Sequential\n",
        "from tensorflow.python.keras.layers import Conv2D, MaxPooling2D\n",
        "from tensorflow.python.keras.layers import Activation, Dropout, Flatten, Dense\n",
        "from tensorflow.keras.callbacks import ModelCheckpoint, EarlyStopping\n"
      ],
      "execution_count": 0,
      "outputs": []
    },
    {
      "cell_type": "code",
      "metadata": {
        "id": "kxZU-7Jqem-r",
        "colab_type": "code",
        "colab": {}
      },
      "source": [
        "img_width, img_height = 299, 299\n",
        "# backend Tensorflow, channels_last\n",
        "input_shape = (img_width, img_height, 3)\n",
        "epochs = 30\n",
        "batch_size = 16\n",
        "nb_train_samples = 680\n",
        "nb_validation_samples = 60\n",
        "nb_test_samples = 60"
      ],
      "execution_count": 0,
      "outputs": []
    },
    {
      "cell_type": "code",
      "metadata": {
        "id": "zsZPWLrN00GK",
        "colab_type": "code",
        "colab": {}
      },
      "source": [
        "model = Sequential()\n",
        "model.add(Conv2D(32, (3, 3), input_shape=input_shape))\n",
        "model.add(Activation('relu'))\n",
        "model.add(MaxPooling2D(pool_size=(2, 2)))\n",
        "\n",
        "model.add(Conv2D(32, (3, 3)))\n",
        "model.add(Activation('relu'))\n",
        "model.add(MaxPooling2D(pool_size=(2, 2)))\n",
        "\n",
        "model.add(Conv2D(64, (3, 3)))\n",
        "model.add(Activation('relu'))\n",
        "model.add(MaxPooling2D(pool_size=(2, 2)))\n",
        "\n",
        "model.add(Flatten())\n",
        "model.add(Dense(64))\n",
        "model.add(Activation('relu'))\n",
        "model.add(Dropout(0.1))\n",
        "#model.add(Dropout(0.5))\n",
        "model.add(Dense(1))\n",
        "model.add(Activation('sigmoid'))"
      ],
      "execution_count": 0,
      "outputs": []
    },
    {
      "cell_type": "code",
      "metadata": {
        "id": "JLfYcBocwTA5",
        "colab_type": "code",
        "outputId": "50c6b90f-8e31-4fca-980b-33b3fd8cd136",
        "colab": {
          "base_uri": "https://localhost:8080/",
          "height": 710
        }
      },
      "source": [
        "print(model.summary())"
      ],
      "execution_count": 0,
      "outputs": [
        {
          "output_type": "stream",
          "text": [
            "Model: \"sequential\"\n",
            "_________________________________________________________________\n",
            "Layer (type)                 Output Shape              Param #   \n",
            "=================================================================\n",
            "conv2d (Conv2D)              (None, 297, 297, 32)      896       \n",
            "_________________________________________________________________\n",
            "activation (Activation)      (None, 297, 297, 32)      0         \n",
            "_________________________________________________________________\n",
            "max_pooling2d (MaxPooling2D) (None, 148, 148, 32)      0         \n",
            "_________________________________________________________________\n",
            "conv2d_1 (Conv2D)            (None, 146, 146, 32)      9248      \n",
            "_________________________________________________________________\n",
            "activation_1 (Activation)    (None, 146, 146, 32)      0         \n",
            "_________________________________________________________________\n",
            "max_pooling2d_1 (MaxPooling2 (None, 73, 73, 32)        0         \n",
            "_________________________________________________________________\n",
            "conv2d_2 (Conv2D)            (None, 71, 71, 64)        18496     \n",
            "_________________________________________________________________\n",
            "activation_2 (Activation)    (None, 71, 71, 64)        0         \n",
            "_________________________________________________________________\n",
            "max_pooling2d_2 (MaxPooling2 (None, 35, 35, 64)        0         \n",
            "_________________________________________________________________\n",
            "flatten (Flatten)            (None, 78400)             0         \n",
            "_________________________________________________________________\n",
            "dense (Dense)                (None, 64)                5017664   \n",
            "_________________________________________________________________\n",
            "activation_3 (Activation)    (None, 64)                0         \n",
            "_________________________________________________________________\n",
            "dropout (Dropout)            (None, 64)                0         \n",
            "_________________________________________________________________\n",
            "dense_1 (Dense)              (None, 1)                 65        \n",
            "_________________________________________________________________\n",
            "activation_4 (Activation)    (None, 1)                 0         \n",
            "=================================================================\n",
            "Total params: 5,046,369\n",
            "Trainable params: 5,046,369\n",
            "Non-trainable params: 0\n",
            "_________________________________________________________________\n",
            "None\n"
          ],
          "name": "stdout"
        }
      ]
    },
    {
      "cell_type": "code",
      "metadata": {
        "id": "JAMObcOI03oG",
        "colab_type": "code",
        "colab": {}
      },
      "source": [
        "model.compile(loss='binary_crossentropy',\n",
        "              optimizer='adam',\n",
        "              metrics=['accuracy'])"
      ],
      "execution_count": 0,
      "outputs": []
    },
    {
      "cell_type": "code",
      "metadata": {
        "id": "cYIh7tdrA-nP",
        "colab_type": "code",
        "colab": {}
      },
      "source": [
        "model_filename='1_Scratch.hdf5'\n",
        "\n",
        "callbacks1 = [\n",
        "        EarlyStopping(\n",
        "            monitor='val_accuracy',\n",
        "            patience=5,\n",
        "            # min_delta=1,\n",
        "            mode='max',\n",
        "            verbose=1),\n",
        "\n",
        "        ModelCheckpoint(\n",
        "            filepath=model_filename,\n",
        "            monitor='val_accuracy', mode='max',  # mode must be set to max or Keras will be confused\n",
        "            save_best_only=True,\n",
        "            verbose=1)\n",
        "    ]\n"
      ],
      "execution_count": 0,
      "outputs": []
    },
    {
      "cell_type": "code",
      "metadata": {
        "id": "AlaGrZ5606Q4",
        "colab_type": "code",
        "colab": {}
      },
      "source": [
        "datagen = ImageDataGenerator(\n",
        "    rescale=1. / 255,\n",
        "    #rotation_range=40,\n",
        "    #width_shift_range=0.2,\n",
        "    #height_shift_range=0.2,\n",
        "    #shear_range=0.2,\n",
        "    #zoom_range=0.2,\n",
        "    #horizontal_flip=True,\n",
        "    #vertical_flip=True,\n",
        "    #fill_mode='nearest',\n",
        ") "
      ],
      "execution_count": 0,
      "outputs": []
    },
    {
      "cell_type": "code",
      "metadata": {
        "id": "KtOb5hG508vx",
        "colab_type": "code",
        "outputId": "0564e79a-011b-4501-a244-c695cd838db4",
        "colab": {
          "base_uri": "https://localhost:8080/",
          "height": 35
        }
      },
      "source": [
        "train_generator = datagen.flow_from_directory(\n",
        "    '/content/gdrive/My Drive/Colab Notebooks/tuberculosis/base_dir/train_dir/',\n",
        "    target_size=(img_width, img_height),\n",
        "    batch_size=batch_size,\n",
        "    class_mode='binary')"
      ],
      "execution_count": 0,
      "outputs": [
        {
          "output_type": "stream",
          "text": [
            "Found 680 images belonging to 2 classes.\n"
          ],
          "name": "stdout"
        }
      ]
    },
    {
      "cell_type": "code",
      "metadata": {
        "id": "hz5rVCklJcTx",
        "colab_type": "code",
        "outputId": "ad6b38a2-a9b7-419f-82a5-192b28ee14e7",
        "colab": {
          "base_uri": "https://localhost:8080/",
          "height": 35
        }
      },
      "source": [
        "val_generator = datagen.flow_from_directory(\n",
        "    '/content/gdrive/My Drive/Colab Notebooks/tuberculosis/base_dir/val_dir/',\n",
        "    target_size=(img_width, img_height),\n",
        "    batch_size=batch_size,\n",
        "    class_mode='binary')"
      ],
      "execution_count": 0,
      "outputs": [
        {
          "output_type": "stream",
          "text": [
            "Found 60 images belonging to 2 classes.\n"
          ],
          "name": "stdout"
        }
      ]
    },
    {
      "cell_type": "code",
      "metadata": {
        "id": "V5b0dlYBqgsb",
        "colab_type": "code",
        "outputId": "b222b0c7-d30c-4e1c-f5fb-a14b9d3cd2e3",
        "colab": {
          "base_uri": "https://localhost:8080/",
          "height": 35
        }
      },
      "source": [
        "test_generator = datagen.flow_from_directory(\n",
        "    '/content/gdrive/My Drive/Colab Notebooks/tuberculosis/base_dir/test_dir/',\n",
        "    target_size=(img_width, img_height),\n",
        "    batch_size=batch_size,\n",
        "    class_mode='binary')"
      ],
      "execution_count": 0,
      "outputs": [
        {
          "output_type": "stream",
          "text": [
            "Found 60 images belonging to 2 classes.\n"
          ],
          "name": "stdout"
        }
      ]
    },
    {
      "cell_type": "code",
      "metadata": {
        "id": "JnCtpxWqGaHw",
        "colab_type": "code",
        "outputId": "7ffa1833-989b-4ce2-a555-62d175f7b7df",
        "colab": {
          "base_uri": "https://localhost:8080/",
          "height": 1000
        }
      },
      "source": [
        "history = model.fit_generator(\n",
        "    train_generator,\n",
        "    steps_per_epoch=nb_train_samples // batch_size,\n",
        "    epochs=epochs,\n",
        "    validation_data=val_generator,\n",
        "    validation_steps=nb_validation_samples // batch_size,\n",
        "    callbacks=callbacks1)"
      ],
      "execution_count": 0,
      "outputs": [
        {
          "output_type": "stream",
          "text": [
            "Epoch 1/30\n",
            "42/42 [==============================] - 68s 2s/step - loss: 0.1565 - accuracy: 0.9247 - val_loss: 0.7708 - val_accuracy: 0.7708\n",
            "Epoch 2/30\n",
            "42/42 [==============================] - 68s 2s/step - loss: 0.1166 - accuracy: 0.9443 - val_loss: 1.1511 - val_accuracy: 0.6875\n",
            "Epoch 3/30\n",
            "42/42 [==============================] - 68s 2s/step - loss: 0.1026 - accuracy: 0.9458 - val_loss: 1.2169 - val_accuracy: 0.7083\n",
            "Epoch 4/30\n",
            "42/42 [==============================] - 68s 2s/step - loss: 0.0701 - accuracy: 0.9714 - val_loss: 1.0961 - val_accuracy: 0.7500\n",
            "Epoch 5/30\n",
            "42/42 [==============================] - 68s 2s/step - loss: 0.0883 - accuracy: 0.9654 - val_loss: 1.2730 - val_accuracy: 0.7500\n",
            "Epoch 6/30\n",
            "42/42 [==============================] - 68s 2s/step - loss: 0.0801 - accuracy: 0.9669 - val_loss: 1.4040 - val_accuracy: 0.7500\n",
            "Epoch 7/30\n",
            "42/42 [==============================] - 69s 2s/step - loss: 0.0488 - accuracy: 0.9789 - val_loss: 1.6308 - val_accuracy: 0.7500\n",
            "Epoch 8/30\n",
            "42/42 [==============================] - 72s 2s/step - loss: 0.0586 - accuracy: 0.9759 - val_loss: 2.2539 - val_accuracy: 0.7292\n",
            "Epoch 9/30\n",
            "42/42 [==============================] - 69s 2s/step - loss: 0.0985 - accuracy: 0.9563 - val_loss: 1.6098 - val_accuracy: 0.7917\n",
            "Epoch 10/30\n",
            "42/42 [==============================] - 69s 2s/step - loss: 0.0744 - accuracy: 0.9669 - val_loss: 1.8774 - val_accuracy: 0.6667\n",
            "Epoch 11/30\n",
            "42/42 [==============================] - 69s 2s/step - loss: 0.0355 - accuracy: 0.9849 - val_loss: 1.8220 - val_accuracy: 0.7292\n",
            "Epoch 12/30\n",
            "42/42 [==============================] - 69s 2s/step - loss: 0.0487 - accuracy: 0.9774 - val_loss: 1.5774 - val_accuracy: 0.7917\n",
            "Epoch 13/30\n",
            "42/42 [==============================] - 69s 2s/step - loss: 0.0248 - accuracy: 0.9864 - val_loss: 2.0497 - val_accuracy: 0.6458\n",
            "Epoch 14/30\n",
            "42/42 [==============================] - 69s 2s/step - loss: 0.0338 - accuracy: 0.9849 - val_loss: 2.3895 - val_accuracy: 0.7500\n",
            "Epoch 15/30\n",
            "42/42 [==============================] - 68s 2s/step - loss: 0.0300 - accuracy: 0.9864 - val_loss: 1.8629 - val_accuracy: 0.7708\n",
            "Epoch 16/30\n",
            "42/42 [==============================] - 73s 2s/step - loss: 0.0633 - accuracy: 0.9774 - val_loss: 2.1088 - val_accuracy: 0.7917\n",
            "Epoch 17/30\n",
            "42/42 [==============================] - 69s 2s/step - loss: 0.0219 - accuracy: 0.9880 - val_loss: 2.2480 - val_accuracy: 0.7500\n",
            "Epoch 18/30\n",
            "42/42 [==============================] - 69s 2s/step - loss: 0.0187 - accuracy: 0.9849 - val_loss: 2.5561 - val_accuracy: 0.7083\n",
            "Epoch 19/30\n",
            "42/42 [==============================] - 68s 2s/step - loss: 0.0742 - accuracy: 0.9699 - val_loss: 2.6737 - val_accuracy: 0.7083\n",
            "Epoch 20/30\n",
            "42/42 [==============================] - 68s 2s/step - loss: 0.1156 - accuracy: 0.9518 - val_loss: 2.3854 - val_accuracy: 0.7083\n",
            "Epoch 21/30\n",
            "42/42 [==============================] - 69s 2s/step - loss: 0.0816 - accuracy: 0.9684 - val_loss: 1.8567 - val_accuracy: 0.6458\n",
            "Epoch 22/30\n",
            "42/42 [==============================] - 69s 2s/step - loss: 0.0465 - accuracy: 0.9759 - val_loss: 2.4878 - val_accuracy: 0.6875\n",
            "Epoch 23/30\n",
            "42/42 [==============================] - 69s 2s/step - loss: 0.0223 - accuracy: 0.9895 - val_loss: 2.4966 - val_accuracy: 0.7083\n",
            "Epoch 24/30\n",
            "42/42 [==============================] - 69s 2s/step - loss: 0.0178 - accuracy: 0.9910 - val_loss: 1.5264 - val_accuracy: 0.7292\n",
            "Epoch 25/30\n",
            "42/42 [==============================] - 72s 2s/step - loss: 0.0156 - accuracy: 0.9940 - val_loss: 2.5153 - val_accuracy: 0.7083\n",
            "Epoch 26/30\n",
            "42/42 [==============================] - 69s 2s/step - loss: 0.0160 - accuracy: 0.9895 - val_loss: 2.7732 - val_accuracy: 0.6667\n",
            "Epoch 27/30\n",
            "42/42 [==============================] - 69s 2s/step - loss: 0.0254 - accuracy: 0.9864 - val_loss: 2.1212 - val_accuracy: 0.6875\n",
            "Epoch 28/30\n",
            "42/42 [==============================] - 69s 2s/step - loss: 0.0210 - accuracy: 0.9834 - val_loss: 1.7169 - val_accuracy: 0.7708\n",
            "Epoch 29/30\n",
            "42/42 [==============================] - 69s 2s/step - loss: 0.0128 - accuracy: 0.9940 - val_loss: 2.0496 - val_accuracy: 0.7083\n",
            "Epoch 30/30\n",
            "42/42 [==============================] - 69s 2s/step - loss: 0.0168 - accuracy: 0.9895 - val_loss: 2.3314 - val_accuracy: 0.7708\n"
          ],
          "name": "stdout"
        }
      ]
    },
    {
      "cell_type": "code",
      "metadata": {
        "id": "FW0y9lNkKaF-",
        "colab_type": "code",
        "outputId": "816f9076-8ce7-45cf-e66f-81ff4bb52087",
        "colab": {
          "base_uri": "https://localhost:8080/",
          "height": 279
        }
      },
      "source": [
        "plt.plot(history.history['accuracy'], label='The propotion of correct answers on the training set')\n",
        "plt.plot(history.history['val_accuracy'], label='The propotion of correct answers on validation set')\n",
        "plt.xlabel('The number epoch')\n",
        "plt.ylabel('The propotion of the correct answers')\n",
        "plt.legend()\n",
        "plt.show()"
      ],
      "execution_count": 0,
      "outputs": [
        {
          "output_type": "display_data",
          "data": {
            "image/png": "[encoded data removed]",
            "text/plain": [
              "<Figure size 432x288 with 1 Axes>"
            ]
          },
          "metadata": {
            "tags": [],
            "needs_background": "light"
          }
        }
      ]
    },
    {
      "cell_type": "code",
      "metadata": {
        "id": "PT-C_DwDO51k",
        "colab_type": "code",
        "colab": {}
      },
      "source": [
        "scores = model.evaluate_generator(test_generator, nb_test_samples // batch_size)"
      ],
      "execution_count": 0,
      "outputs": []
    },
    {
      "cell_type": "code",
      "metadata": {
        "id": "DOkRhPCxO_AG",
        "colab_type": "code",
        "outputId": "61346300-28e2-4969-f4bb-70721e41da67",
        "colab": {
          "base_uri": "https://localhost:8080/",
          "height": 35
        }
      },
      "source": [
        "print(\"accuracy on testing set: %.2f%%\" % (scores[1]*100))"
      ],
      "execution_count": 0,
      "outputs": [
        {
          "output_type": "stream",
          "text": [
            "accuracy on testing set: 91.67%\n"
          ],
          "name": "stdout"
        }
      ]
    },
    {
      "cell_type": "code",
      "metadata": {
        "id": "EboNBpf5jSKs",
        "colab_type": "code",
        "outputId": "1fbad4eb-a47e-4021-efac-cdd6445a421c",
        "colab": {
          "base_uri": "https://localhost:8080/",
          "height": 35
        }
      },
      "source": [
        "import math\n",
        "#y_pred = model.predict_generator(test_generator,nb_test_samples / batch_size,verbose=1)\n",
        "y_pred = model.predict_generator(test_generator,steps=math.ceil(nb_test_samples / batch_size),verbose=1)\n"
      ],
      "execution_count": 0,
      "outputs": [
        {
          "output_type": "stream",
          "text": [
            "4/4 [==============================] - 1s 374ms/step\n"
          ],
          "name": "stdout"
        }
      ]
    },
    {
      "cell_type": "code",
      "metadata": {
        "id": "ZE-_qi0d-TA0",
        "colab_type": "code",
        "colab": {}
      },
      "source": [
        "#test_loss = model.evaluate(test_generator)\n",
        "#predictions = model.predict(test_generator)  # Vector of probabilities\n"
      ],
      "execution_count": 0,
      "outputs": []
    },
    {
      "cell_type": "code",
      "metadata": {
        "id": "fuRQfyIUWz1r",
        "colab_type": "code",
        "outputId": "7807c277-2d3e-463e-d52b-a9ccf65f033b",
        "colab": {
          "base_uri": "https://localhost:8080/",
          "height": 763
        }
      },
      "source": [
        "import numpy as np\n",
        "from sklearn.metrics import accuracy_score\n",
        "from sklearn.metrics import classification_report, confusion_matrix\n",
        "import matplotlib.pyplot as plt\n",
        "import seaborn as sn;\n",
        "\n",
        "\n",
        "print(y_pred[:10])\n",
        "pred_labels = np.argmax(y_pred, axis=1)  \n",
        "print(pred_labels[:10])\n",
        "\n",
        "\n",
        "y_test = test_generator.classes\n",
        "print(y_test[:10])\n",
        "\n",
        "\n",
        "acc = accuracy_score(y_test, pred_labels)\n",
        "print(acc)\n",
        "\n",
        "# classification report\n",
        "target_names=['Normal', 'Tuberculosis']\n",
        "report = classification_report(y_test, pred_labels, target_names=target_names)\n",
        "print(report)\n",
        "\n",
        "with open('classificationreport.txt', 'w') as f:\n",
        "  f.write(report)\n",
        "\n",
        "# confusion matrix\n",
        "CM = confusion_matrix(y_test, pred_labels)\n",
        "print(CM)\n",
        "\n",
        "ax = plt.axes()\n",
        "sn.heatmap(CM, annot=True,\n",
        "           annot_kws={\"size\": 10},\n",
        "           xticklabels=target_names,\n",
        "           yticklabels=target_names, ax=ax)\n",
        "ax.set_title('Confusion matrix')\n",
        "fig = plt.gcf()\n",
        "plt.show()\n",
        "fig.savefig('confusionmatrix.png')\n"
      ],
      "execution_count": 0,
      "outputs": [
        {
          "output_type": "stream",
          "text": [
            "[[2.4873547e-13]\n",
            " [1.0000000e+00]\n",
            " [2.2488356e-13]\n",
            " [1.0000000e+00]\n",
            " [9.7852957e-01]\n",
            " [2.6866983e-05]\n",
            " [4.1694140e-01]\n",
            " [1.0000000e+00]\n",
            " [1.0000000e+00]\n",
            " [1.0000000e+00]]\n",
            "[0 0 0 0 0 0 0 0 0 0]\n",
            "[0 0 0 0 0 0 0 0 0 0]\n",
            "0.5166666666666667\n",
            "              precision    recall  f1-score   support\n",
            "\n",
            "      Normal       0.52      1.00      0.68        31\n",
            "Tuberculosis       0.00      0.00      0.00        29\n",
            "\n",
            "    accuracy                           0.52        60\n",
            "   macro avg       0.26      0.50      0.34        60\n",
            "weighted avg       0.27      0.52      0.35        60\n",
            "\n",
            "[[31  0]\n",
            " [29  0]]\n"
          ],
          "name": "stdout"
        },
        {
          "output_type": "stream",
          "text": [
            "/usr/local/lib/python3.6/dist-packages/sklearn/metrics/_classification.py:1272: UndefinedMetricWarning: Precision and F-score are ill-defined and being set to 0.0 in labels with no predicted samples. Use `zero_division` parameter to control this behavior.\n",
            "  _warn_prf(average, modifier, msg_start, len(result))\n"
          ],
          "name": "stderr"
        },
        {
          "output_type": "display_data",
          "data": {
            "image/png": "[encoded data removed]",
            "text/plain": [
              "<Figure size 432x288 with 2 Axes>"
            ]
          },
          "metadata": {
            "tags": [],
            "needs_background": "light"
          }
        }
      ]
    }
  ]
}